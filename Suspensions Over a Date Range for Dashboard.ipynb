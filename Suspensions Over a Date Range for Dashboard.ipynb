{
 "cells": [
  {
   "cell_type": "markdown",
   "id": "89eeb2ff",
   "metadata": {},
   "source": [
    "# Suspensions Over a Date Range for Dashboard\n",
    "\n",
    "In this Jupyter notebook, the suspensions for students will be calculated and presented as an unduplicated count. A sheet will be generated that has the suspension rates for each school site and as well as another sheet that is showing all the students who have been suspended.\n",
    "\n",
    "It will be based on two queries in Aeries:\n",
    "\n",
    "Enrollment: LIST STU ID LN FN SC GR ED \n",
    "\n",
    "Suspension: LIST STU ADS DSP ADS.SC STU.ID ADS.DT ADS.CD DSP.DS DSP.DD"
   ]
  },
  {
   "cell_type": "code",
   "execution_count": null,
   "id": "dc10274f",
   "metadata": {},
   "outputs": [],
   "source": [
    "import numpy as np\n",
    "import pandas as pd"
   ]
  },
  {
   "cell_type": "code",
   "execution_count": null,
   "id": "f4b7d899",
   "metadata": {},
   "outputs": [],
   "source": [
    "# Obtain enrollment data for the students\n",
    "# LIST STU ID LN FN SC GR ED \n",
    "\n",
    "enrollment = pd.read_excel(r\"C:\\Users\\derek.castleman\\Desktop\\MonthlyDataPull\\2024-2025\\October\\Enrollment October.xlsx\")\n",
    "\n",
    "# Discipline data for the students\n",
    "# LIST STU ADS DSP ADS.SC STU.ID ADS.DT ADS.CD DSP.DS DSP.DD\n",
    "suspension = pd.read_excel(r\"C:\\Users\\derek.castleman\\Desktop\\MonthlyDataPull\\2024-2025\\October\\SuspensionsData.xlsx\")"
   ]
  },
  {
   "cell_type": "code",
   "execution_count": null,
   "id": "663d0b22",
   "metadata": {
    "scrolled": true
   },
   "outputs": [],
   "source": [
    "a = input('What is the start date you are interested in (mm/dd/yyyy):          ') #Input start date"
   ]
  },
  {
   "cell_type": "code",
   "execution_count": null,
   "id": "b25cd2fc",
   "metadata": {},
   "outputs": [],
   "source": [
    "a = pd.to_datetime(a) # Change start date to datetime\n",
    "a"
   ]
  },
  {
   "cell_type": "code",
   "execution_count": null,
   "id": "6259873c",
   "metadata": {},
   "outputs": [],
   "source": [
    "b = input('What is the end date you are interested in (mm/dd/yyyy):          ') #Input end date"
   ]
  },
  {
   "cell_type": "code",
   "execution_count": null,
   "id": "6e8e5bb4",
   "metadata": {},
   "outputs": [],
   "source": [
    "b = pd.to_datetime(b) # Turn end date to date time\n",
    "b"
   ]
  },
  {
   "cell_type": "code",
   "execution_count": null,
   "id": "dd2e7c72",
   "metadata": {},
   "outputs": [],
   "source": [
    "suspension"
   ]
  },
  {
   "cell_type": "code",
   "execution_count": null,
   "id": "627804e5",
   "metadata": {},
   "outputs": [],
   "source": [
    "suspension['Disposition date']= pd.to_datetime(suspension['Disposition date']) # Changes disposition date to datetime\n",
    "suspension"
   ]
  },
  {
   "cell_type": "code",
   "execution_count": null,
   "id": "57c97aad",
   "metadata": {},
   "outputs": [],
   "source": [
    "# Selects dispositions between the two dates\n",
    "dates_interested = suspension[(suspension['Disposition date'] >=a) & (suspension['Disposition date'] <=b)]\n",
    "dates_interested"
   ]
  },
  {
   "cell_type": "code",
   "execution_count": null,
   "id": "dd94183e",
   "metadata": {},
   "outputs": [],
   "source": [
    "# Selection only the suspensions from among the dispositions\n",
    "suspension = dates_interested[(dates_interested['Disposition'] == 'SUS-13')\n",
    "                              | (dates_interested['Disposition'] == '04')]\n",
    "suspension"
   ]
  },
  {
   "cell_type": "code",
   "execution_count": null,
   "id": "163e6cd9",
   "metadata": {},
   "outputs": [],
   "source": [
    "# Gives a value of 1 to each suspension\n",
    "suspension['Suspensions'] = 1\n",
    "suspension"
   ]
  },
  {
   "cell_type": "code",
   "execution_count": null,
   "id": "181e8bca",
   "metadata": {},
   "outputs": [],
   "source": [
    "m = input('Duplicated or Unduplicated:          ')\n",
    "m"
   ]
  },
  {
   "cell_type": "code",
   "execution_count": null,
   "id": "7dbc30be",
   "metadata": {},
   "outputs": [],
   "source": [
    "# Based on what was input duplicated or unduplicated counts will be selected\n",
    "if m == 'Unduplicated':\n",
    "    suspension = suspension.drop_duplicates(subset=['Student ID'])\n",
    "    suspension_students = suspension\n",
    "    suspension\n",
    "else: suspension_students = suspension.groupby(by=['School', 'Student ID'])['Suspensions'].sum().reset_index()"
   ]
  },
  {
   "cell_type": "code",
   "execution_count": null,
   "id": "5531fae1",
   "metadata": {},
   "outputs": [],
   "source": [
    "suspension_students"
   ]
  },
  {
   "cell_type": "code",
   "execution_count": null,
   "id": "60d311e6",
   "metadata": {},
   "outputs": [],
   "source": [
    "# Selects columns of interest\n",
    "suspension = suspension[['School', 'Suspensions']]\n",
    "suspension"
   ]
  },
  {
   "cell_type": "code",
   "execution_count": null,
   "id": "7ad9825c",
   "metadata": {},
   "outputs": [],
   "source": [
    "# Sums up the suspensions by school\n",
    "suspension = suspension.groupby(by=['School'])['Suspensions'].sum().reset_index()\n",
    "suspension"
   ]
  },
  {
   "cell_type": "code",
   "execution_count": null,
   "id": "aaddef9f",
   "metadata": {},
   "outputs": [],
   "source": [
    "enrollment\n",
    "enrollment_students = enrollment"
   ]
  },
  {
   "cell_type": "code",
   "execution_count": null,
   "id": "1e7825c3",
   "metadata": {},
   "outputs": [],
   "source": [
    "# Giving each student an enrollment number\n",
    "enrollment['Enrollment'] = 1\n",
    "enrollment"
   ]
  },
  {
   "cell_type": "code",
   "execution_count": null,
   "id": "f9098db9",
   "metadata": {},
   "outputs": [],
   "source": [
    "# Summing up the enrollment by school\n",
    "enrollment = enrollment.groupby(by=['School'])['Enrollment'].sum().reset_index()\n",
    "enrollment"
   ]
  },
  {
   "cell_type": "code",
   "execution_count": null,
   "id": "43525ad2",
   "metadata": {},
   "outputs": [],
   "source": [
    "# Merge enrollment with the suspension tables\n",
    "school = pd.merge(enrollment, suspension, how='outer', on='School')\n",
    "school"
   ]
  },
  {
   "cell_type": "code",
   "execution_count": null,
   "id": "700362ab",
   "metadata": {},
   "outputs": [],
   "source": [
    "# Fills in with zero if there are none there\n",
    "school = school.fillna(0)\n",
    "school"
   ]
  },
  {
   "cell_type": "code",
   "execution_count": null,
   "id": "22d18b8a",
   "metadata": {},
   "outputs": [],
   "source": [
    "# Putting the secondary schools together\n",
    "delano_ss = school[(school['School'] == 1) | (school['School'] == 2)]\n",
    "delano_ss"
   ]
  },
  {
   "cell_type": "code",
   "execution_count": null,
   "id": "af1df07f",
   "metadata": {},
   "outputs": [],
   "source": [
    "# Summing all columns\n",
    "column_sums = delano_ss.sum(axis=0)\n",
    "delano_ss = pd.DataFrame(column_sums).transpose()\n",
    "delano_ss"
   ]
  },
  {
   "cell_type": "code",
   "execution_count": null,
   "id": "fe440e58",
   "metadata": {},
   "outputs": [],
   "source": [
    "# Renaming to the SS\n",
    "delano_ss['School'] = delano_ss['School'].replace(3.0, 'Delano SS')\n",
    "delano_ss"
   ]
  },
  {
   "cell_type": "code",
   "execution_count": null,
   "id": "20bf57ab",
   "metadata": {},
   "outputs": [],
   "source": [
    "# Selecting for all of Delano\n",
    "delano = school[(school['School'] == 1) | (school['School'] == 2) | (school['School'] == 4) ]\n",
    "delano"
   ]
  },
  {
   "cell_type": "code",
   "execution_count": null,
   "id": "03b31bd9",
   "metadata": {},
   "outputs": [],
   "source": [
    "# Adding up columns\n",
    "column_sums = delano.sum(axis=0)\n",
    "delano = pd.DataFrame(column_sums).transpose()\n",
    "delano"
   ]
  },
  {
   "cell_type": "code",
   "execution_count": null,
   "id": "6270076c",
   "metadata": {},
   "outputs": [],
   "source": [
    "# Rename for Delano\n",
    "delano['School'] = delano['School'].replace(7.0, 'Delano')\n",
    "delano"
   ]
  },
  {
   "cell_type": "code",
   "execution_count": null,
   "id": "d022f2b3",
   "metadata": {},
   "outputs": [],
   "source": [
    "# Secondary for Lost Hills is selected\n",
    "lh_ss = school[(school['School'] == 7) | (school['School'] == 8) ]\n",
    "lh_ss"
   ]
  },
  {
   "cell_type": "code",
   "execution_count": null,
   "id": "935141a0",
   "metadata": {},
   "outputs": [],
   "source": [
    "# Summing up columns\n",
    "column_sums = lh_ss.sum(axis=0)\n",
    "lh_ss = pd.DataFrame(column_sums).transpose()\n",
    "lh_ss"
   ]
  },
  {
   "cell_type": "code",
   "execution_count": null,
   "id": "dede5781",
   "metadata": {},
   "outputs": [],
   "source": [
    "# Renaming it\n",
    "lh_ss['School'] = lh_ss['School'].replace(15.0, 'Lost Hills SS')\n",
    "lh_ss"
   ]
  },
  {
   "cell_type": "code",
   "execution_count": null,
   "id": "8fc82f1a",
   "metadata": {},
   "outputs": [],
   "source": [
    "# Selecting Lost Hills\n",
    "lh = school[(school['School'] == 6) | (school['School'] == 7) | (school['School'] == 8) ]\n",
    "lh"
   ]
  },
  {
   "cell_type": "code",
   "execution_count": null,
   "id": "fe7ff899",
   "metadata": {},
   "outputs": [],
   "source": [
    "# Summing up columns\n",
    "column_sums = lh.sum(axis=0)\n",
    "lh = pd.DataFrame(column_sums).transpose()\n",
    "lh"
   ]
  },
  {
   "cell_type": "code",
   "execution_count": null,
   "id": "48697daa",
   "metadata": {},
   "outputs": [],
   "source": [
    "# Renaming the columns\n",
    "lh['School'] = lh['School'].replace(21.0, 'Lost Hills')\n",
    "lh"
   ]
  },
  {
   "cell_type": "code",
   "execution_count": null,
   "id": "c79542dd",
   "metadata": {},
   "outputs": [],
   "source": [
    "# Put all the aggregated schools together with the schools\n",
    "school = pd.concat([school, delano_ss, delano, lh_ss, lh])\n",
    "school"
   ]
  },
  {
   "cell_type": "code",
   "execution_count": null,
   "id": "e8ff858a",
   "metadata": {},
   "outputs": [],
   "source": [
    "# Replacing the schools with their names\n",
    "replacement_dict = {1.0: 'Delano HS', 2: 'Delano MS', 4.0:'Delano ES', 6.0:'Lost Hills ES', \n",
    "                   7.0:'Lost Hills MS', 8.0: 'Lost Hills HS'}\n",
    "school['School'].replace(replacement_dict, inplace=True)\n",
    "school"
   ]
  },
  {
   "cell_type": "code",
   "execution_count": null,
   "id": "9fa38cdc",
   "metadata": {},
   "outputs": [],
   "source": [
    "# Calculating the suspenion rate\n",
    "school['Supension Rate'] = school['Suspensions'] / school['Enrollment']\n",
    "school"
   ]
  },
  {
   "cell_type": "code",
   "execution_count": null,
   "id": "ec8a828c",
   "metadata": {},
   "outputs": [],
   "source": [
    "suspension_students"
   ]
  },
  {
   "cell_type": "code",
   "execution_count": null,
   "id": "1132af6e",
   "metadata": {},
   "outputs": [],
   "source": [
    "enrollment_students"
   ]
  },
  {
   "cell_type": "code",
   "execution_count": null,
   "id": "de9b2b0f",
   "metadata": {},
   "outputs": [],
   "source": [
    "suspended_students = pd.merge(enrollment_students, suspension_students, how='left', on='Student ID')\n",
    "suspended_students"
   ]
  },
  {
   "cell_type": "code",
   "execution_count": null,
   "id": "6aa0192d",
   "metadata": {},
   "outputs": [],
   "source": [
    "suspended_students['Suspensions'].fillna(0, inplace=True)\n",
    "suspended_students"
   ]
  },
  {
   "cell_type": "code",
   "execution_count": null,
   "id": "dc35a2ec",
   "metadata": {},
   "outputs": [],
   "source": [
    "import base64\n",
    "from IPython.display import HTML\n",
    "\n",
    "def create_download_link( df, title = \"Suspensions\", filename = \"Suspensions\"):\n",
    "    csv = df.to_csv(index=False)\n",
    "    b64 = base64.b64encode(csv.encode())\n",
    "    payload = b64.decode()\n",
    "    html = '<a download=\"{filename}\" href=\"data:text/csv;base64,{payload}\" target=\"_blank\">{title}</a>'\n",
    "    html = html.format(payload=payload,title=title,filename=filename)\n",
    "    return HTML(html)\n",
    "\n",
    "create_download_link(school)"
   ]
  },
  {
   "cell_type": "code",
   "execution_count": null,
   "id": "e2c36a4b",
   "metadata": {},
   "outputs": [],
   "source": [
    "import base64\n",
    "from IPython.display import HTML\n",
    "\n",
    "def create_download_link( df, title = \"Suspension by Student\", filename = \"Suspension by Student\"):\n",
    "    csv = df.to_csv(index=False)\n",
    "    b64 = base64.b64encode(csv.encode())\n",
    "    payload = b64.decode()\n",
    "    html = '<a download=\"{filename}\" href=\"data:text/csv;base64,{payload}\" target=\"_blank\">{title}</a>'\n",
    "    html = html.format(payload=payload,title=title,filename=filename)\n",
    "    return HTML(html)\n",
    "\n",
    "create_download_link(suspended_students)"
   ]
  },
  {
   "cell_type": "code",
   "execution_count": null,
   "id": "4c8d70f5",
   "metadata": {},
   "outputs": [],
   "source": []
  }
 ],
 "metadata": {
  "kernelspec": {
   "display_name": "Python 3 (ipykernel)",
   "language": "python",
   "name": "python3"
  },
  "language_info": {
   "codemirror_mode": {
    "name": "ipython",
    "version": 3
   },
   "file_extension": ".py",
   "mimetype": "text/x-python",
   "name": "python",
   "nbconvert_exporter": "python",
   "pygments_lexer": "ipython3",
   "version": "3.9.7"
  }
 },
 "nbformat": 4,
 "nbformat_minor": 5
}
